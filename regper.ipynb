{
  "nbformat": 4,
  "nbformat_minor": 0,
  "metadata": {
    "colab": {
      "name": "regper.ipynb",
      "provenance": [],
      "authorship_tag": "ABX9TyMH+G8L/kRW3nv/x/kMZqwZ",
      "include_colab_link": true
    },
    "kernelspec": {
      "name": "python3",
      "display_name": "Python 3"
    }
  },
  "cells": [
    {
      "cell_type": "markdown",
      "metadata": {
        "id": "view-in-github",
        "colab_type": "text"
      },
      "source": [
        "<a href=\"https://colab.research.google.com/github/foxtrotmike/CS909/blob/master/regper.ipynb\" target=\"_parent\"><img src=\"https://colab.research.google.com/assets/colab-badge.svg\" alt=\"Open In Colab\"/></a>"
      ]
    },
    {
      "cell_type": "code",
      "metadata": {
        "colab": {
          "base_uri": "https://localhost:8080/",
          "height": 543
        },
        "id": "lt1lYb0xuHuX",
        "outputId": "ed50cbd5-fabc-43f4-ce11-7103b16e3d0b"
      },
      "source": [
        "import numpy as np\n",
        "import matplotlib.pyplot as plt\n",
        "import itertools\n",
        "from numpy.random import randn #importing randn\n",
        "import numpy as np #importing numpy\n",
        "import matplotlib.pyplot as plt #importing plotting module\n",
        "import itertools\n",
        "import warnings\n",
        "\n",
        "def plotit(X,Y=None,clf=None,  conts = None, ccolors = ('b','k','r'), colors = ('c','y'), markers = ('s','o'), hold = False, transform = None,extent = None,**kwargs):\n",
        "    \"\"\"\n",
        "    A function for showing data scatter plot and classification boundary\n",
        "    of a classifier for 2D data\n",
        "        X: nxd  matrix of data points\n",
        "        Y: (optional) n vector of class labels\n",
        "        clf: (optional) classification/discriminant function handle\n",
        "        conts: (optional) contours (if None, contours are drawn for each class boundary)\n",
        "        ccolors: (optional) colors for contours\n",
        "        colors: (optional) colors for each class (sorted wrt class id)\n",
        "            can be 'scaled' or 'random' or a list/tuple of color ids\n",
        "        markers: (optional) markers for each class (sorted wrt class id)\n",
        "        hold: Whether to hold the plot or not for overlay (default: False).\n",
        "        transform: (optional) a function handle for transforming data before passing to clf\n",
        "        kwargs: any keyword arguments to be passed to clf (if any)\n",
        "    \"\"\"\n",
        "    if clf is not None and X.shape[1]!=2:\n",
        "        warnings.warn(\"Data Dimensionality is not 2. Unable to plot.\")\n",
        "        return\n",
        "    if markers is None:\n",
        "        markers = ('.',)\n",
        "    eps=1e-6\n",
        "    d0,d1 = (0,1)\n",
        "    if extent is None:\n",
        "        minx, maxx = np.min(X[:,d0])-eps, np.max(X[:,d0])+eps\n",
        "        miny, maxy = np.min(X[:,d1])-eps, np.max(X[:,d1])+eps\n",
        "        extent = [minx,maxx,miny,maxy]\n",
        "    else:\n",
        "        [minx,maxx,miny,maxy] = extent\n",
        "    if Y is not None:\n",
        "        classes = sorted(set(Y))\n",
        "        if conts is None:\n",
        "            conts = list(classes)\n",
        "        vmin,vmax = classes[0]-eps,classes[-1]+eps\n",
        "    else:\n",
        "        vmin,vmax=-2-eps,2+eps\n",
        "        if conts is None:\n",
        "            conts = sorted([-1+eps,0,1-eps])\n",
        "\n",
        "    if clf is not None:\n",
        "        npts = 150\n",
        "        x = np.linspace(minx,maxx,npts)\n",
        "        y = np.linspace(miny,maxy,npts)\n",
        "        t = np.array(list(itertools.product(x,y)))\n",
        "        if transform is not None:\n",
        "            t = transform(t)\n",
        "        z = clf(t,**kwargs)\n",
        "\n",
        "        z = np.reshape(z,(npts,npts)).T\n",
        "\n",
        "\n",
        "        plt.contour(x,y,z,conts,linewidths = [2],colors=ccolors,extent=extent, label='f(x)=0')\n",
        "        #plt.imshow(np.flipud(z), extent = extent, cmap=plt.cm.Purples, vmin = -2, vmax = +2); plt.colorbar()\n",
        "        plt.pcolormesh(x, y, z,cmap=plt.cm.Purples,vmin=vmin,vmax=vmax);plt.colorbar()\n",
        "        plt.axis(extent)\n",
        "\n",
        "    if Y is not None:\n",
        "        for i,y in enumerate(classes):\n",
        "            if colors is None or colors=='scaled':\n",
        "                cc = np.array([[i,i,i]])/float(len(classes))\n",
        "            elif colors =='random':\n",
        "                cc = np.array([[np.random.rand(),np.random.rand(),np.random.rand()]])\n",
        "            else:\n",
        "                cc = colors[i%len(colors)]\n",
        "            mm = markers[i%len(markers)]\n",
        "            plt.scatter(X[Y==y,d0],X[Y==y,d1], marker = mm,c = cc, s = 30)\n",
        "\n",
        "    else:\n",
        "        plt.scatter(X[:,d0],X[:,d1],marker = markers[0], c = 'k', s = 5)\n",
        "    plt.xlabel('$x_1$')\n",
        "    plt.ylabel('$x_2$')\n",
        "    if not hold:\n",
        "        plt.grid()\n",
        "        plt.show()\n",
        "    return extent\n",
        "class RegularizedPerceptron:\n",
        "    def __init__(self,Lambda = 0.0, margin = 1.0, alpha = 0.1, epochs = 1000):\n",
        "        self.alpha = alpha\n",
        "        self.epochs = epochs\n",
        "        self.W = np.array([0])\n",
        "        self.bias = np.random.randn()\n",
        "        self.Lambda = Lambda #not used in perceptron\n",
        "        self.Margin = margin #0.0 in Perceptron\n",
        "    def fit(self,Xtr,Ytr):\n",
        "        d = Xtr.shape[1]\n",
        "        self.W = np.random.randn(d)\n",
        "        for e in range(self.epochs):\n",
        "            finished = True\n",
        "            for i,x in enumerate(Xtr):\n",
        "                if self.score(np.atleast_2d(x))*Ytr[i]<self.Margin:\n",
        "                    self.W += self.alpha*Ytr[i]*x\n",
        "                    self.bias += self.alpha*Ytr[i]\n",
        "\n",
        "            self.W = self.W-self.alpha*self.Lambda*self.W #Regularization update\n",
        "\n",
        "    def score(self,x):\n",
        "        return np.dot(x,self.W) + self.bias\n",
        "\n",
        "    def predict(self,x):\n",
        "        return np.sign(self.score(x))\n",
        "\n",
        "if __name__=='__main__':\n",
        "\n",
        "    Xtr = np.array([[-1,0],[0,0],[4,0],[2,0]])#np.array([[-1,0],[0,1],[4,4],[2,3]])\n",
        "    ytr = np.array([-1,-1,+1,+1])\n",
        "    clf = RegularizedPerceptron(Lambda = 0.1, margin = 1.0)\n",
        "    clf.fit(Xtr,ytr)\n",
        "    z = clf.score(Xtr)\n",
        "    print(\"Prediction Scores:\",z)\n",
        "    y = clf.predict(Xtr)\n",
        "    print(\"Prediction Labels:\",y)\n",
        "    plotit(Xtr,ytr,clf=clf.score,conts=[0],extent = [-5,+5,-5,+5])\n",
        "    print(clf.W)\n"
      ],
      "execution_count": 1,
      "outputs": [
        {
          "output_type": "stream",
          "name": "stdout",
          "text": [
            "Prediction Scores: [-2.11681086 -0.9203372   3.86555746  1.47261013]\n",
            "Prediction Labels: [-1. -1.  1.  1.]\n"
          ]
        },
        {
          "output_type": "stream",
          "name": "stderr",
          "text": [
            "/tmp/ipython-input-1-2812294953.py:61: UserWarning: The following kwargs were not used by contour: 'label'\n",
            "  plt.contour(x,y,z,conts,linewidths = [2],colors=ccolors,extent=extent, label='f(x)=0')\n"
          ]
        },
        {
          "output_type": "display_data",
          "data": {
            "text/plain": [
              "<Figure size 640x480 with 2 Axes>"
            ],
            "image/png": "[encoded data removed]"
          },
          "metadata": {}
        },
        {
          "output_type": "stream",
          "name": "stdout",
          "text": [
            "[1.19647366e+00 7.17423338e-05]\n"
          ]
        }
      ]
    },
    {
      "cell_type": "code",
      "metadata": {
        "id": "ZrcYKXNRulf1"
      },
      "source": [
        "~"
      ],
      "execution_count": null,
      "outputs": []
    }
  ]
}