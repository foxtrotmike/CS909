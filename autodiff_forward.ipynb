{
  "nbformat": 4,
  "nbformat_minor": 0,
  "metadata": {
    "colab": {
      "provenance": [],
      "authorship_tag": "ABX9TyPJRkxp0HSvp56opINR1sGC",
      "include_colab_link": true
    },
    "kernelspec": {
      "name": "python3",
      "display_name": "Python 3"
    },
    "language_info": {
      "name": "python"
    }
  },
  "cells": [
    {
      "cell_type": "markdown",
      "metadata": {
        "id": "view-in-github",
        "colab_type": "text"
      },
      "source": [
        "<a href=\"https://colab.research.google.com/github/foxtrotmike/CS909/blob/master/autodiff_forward.ipynb\" target=\"_parent\"><img src=\"https://colab.research.google.com/assets/colab-badge.svg\" alt=\"Open In Colab\"/></a>"
      ]
    },
    {
      "cell_type": "markdown",
      "source": [
        "# **How to Build an Automatic Differentiation Library: Understanding Dual Numbers and forward differentiation**\n",
        "(Fayyaz Minhas)\n",
        "\n",
        "Automatic differentiation (autodiff) is a powerful technique that allows us to compute derivatives of functions efficiently. One of the simplest ways to understand autodiff is through **dual numbers**.\n",
        "\n",
        "This tutorial will introduce:\n",
        "1. **The concept of dual numbers**\n",
        "2. **How dual numbers can be implemented in Python**\n",
        "3. **How differentiation arises naturally from dual numbers**\n",
        "\n",
        "We will focus on **basic operations**: **addition, multiplication, and power**, and show how differentiation emerges from dual number arithmetic.\n"
      ],
      "metadata": {
        "id": "0YnQnBHVsyS0"
      }
    },
    {
      "cell_type": "markdown",
      "source": [
        "## **1️⃣ Understanding Dual Numbers**\n",
        "\n",
        "### **What are Dual Numbers?**  \n",
        "\n",
        "Dual numbers extend real numbers and are written as:\n",
        "\n",
        "$$\n",
        "x + \\epsilon y\n",
        "$$\n",
        "\n",
        "where:\n",
        "- $x$ is the **real part** (the function value),\n",
        "- $y$ is the **dual part** (the derivative),\n",
        "- $\\epsilon$ is an infinitesimal number with the special (and essential) property:\n",
        "\n",
        "  $$\n",
        "  \\epsilon^2 = 0\n",
        "  $$\n",
        "\n",
        "This means that **higher-order powers of $\\epsilon$ vanish**, making dual numbers ideal for encoding derivatives as the Taylor series of $ f(x) $ around $ x $ is:\n",
        "\n",
        "$$\n",
        "f(x + \\epsilon) = f(x) + \\epsilon f'(x) + \\frac{\\epsilon^2}{2} f''(x) + \\mathcal{O}(\\epsilon^3)\n",
        "$$\n",
        "\n",
        "Since **$ \\epsilon^2 = 0 $** (by definition), all higher-order terms vanish, leaving us with:\n",
        "\n",
        "$$\n",
        "f(x + \\epsilon) = f(x) + \\epsilon f'(x)\n",
        "$$\n",
        "\n",
        "This equation shows that **evaluating a function with a dual number automatically computes both the function's value and its derivative**.\n",
        "\n",
        "This means that when we plug a **dual number** $ x + \\epsilon $ into a function, the result will **naturally contain both**:\n",
        "1. The function value $ f(x) $ in the **real part**.\n",
        "2. The function’s derivative $ f'(x) $ in the **dual part**.\n",
        "\n",
        "---\n",
        "\n",
        "## **Example:**\n",
        "Consider the function:\n",
        "\n",
        "$$\n",
        "f(x) = x^2\n",
        "$$\n",
        "\n",
        "If we evaluate this function at $ x = 3 $ using **dual numbers**, we set:\n",
        "\n",
        "$$\n",
        "x = 3 + \\epsilon\n",
        "$$\n",
        "\n",
        "Now, compute:\n",
        "\n",
        "$$\n",
        "f(x + \\epsilon) = (3 + \\epsilon)^2\n",
        "$$\n",
        "\n",
        "Expanding using algebra:\n",
        "\n",
        "$$\n",
        "= 9 + 6\\epsilon + \\epsilon^2\n",
        "$$\n",
        "\n",
        "Since $ \\epsilon^2 = 0 $, this simplifies to:\n",
        "\n",
        "$$\n",
        "f(3 + \\epsilon) = 9 + 6\\epsilon\n",
        "$$\n",
        "\n",
        "Thus:\n",
        "- **Real part** $ 9 $ is just $ f(3) $.\n",
        "- **Dual part** $ 6 $ is the derivative $ f'(3) = 2(3) = 6 $.\n",
        "\n",
        "✅ **By evaluating the function at $ x + \\epsilon $, we automatically get both $ f(x) $ and $ f'(x) $!**\n",
        "\n",
        "---\n",
        "\n",
        "##**Why This Works for Any Function**\n",
        "The key idea here is that **each function operation correctly propagates derivatives**.  \n",
        "\n",
        "If $ f(x) $ is made up of simpler functions (addition, multiplication, power, etc.), then using **dual numbers** ensures that every step follows **differentiation rules naturally**.\n",
        "\n",
        "For example, if we apply the product rule to:\n",
        "\n",
        "$$\n",
        "g(x) = x^3 + 2x\n",
        "$$\n",
        "\n",
        "Using dual numbers:\n",
        "\n",
        "$$\n",
        "g(4 + \\epsilon) = (4 + \\epsilon)^3 + 2(4 + \\epsilon)\n",
        "$$\n",
        "\n",
        "Expanding:\n",
        "\n",
        "$$\n",
        "= 64 + 3(4^2) \\epsilon + 8 + 2\\epsilon\n",
        "$$\n",
        "\n",
        "$$\n",
        "= 72 + 50\\epsilon\n",
        "$$\n",
        "\n",
        "So, **the real part is** $ g(4) = 72 $, **and the dual part is** $ g'(4) = 50 $.\n",
        "\n",
        "---\n",
        "\n",
        "## **🔹 Key Takeaways**\n",
        "✅ **Evaluating a function at $ x + \\epsilon $ automatically computes both the function's value and its derivative.**  \n",
        "✅ **This works because of the Taylor expansion, where $ \\epsilon^2 = 0 $ simplifies everything.**  \n",
        "✅ **Each mathematical operation correctly propagates derivatives, ensuring we get the correct derivative for any function.**\n",
        "\n",
        "---\n",
        "\n"
      ],
      "metadata": {
        "id": "TWR_-rrXs2kR"
      }
    },
    {
      "cell_type": "markdown",
      "source": [],
      "metadata": {
        "id": "oqrW7Dkss5RZ"
      }
    },
    {
      "cell_type": "markdown",
      "source": [
        "## **2️⃣ Implementing Dual Numbers in Python**\n",
        "\n",
        "In order to implement, these magical numbers, We will define a **`DualNumber`** class that supports different functions such as:\n",
        "- **Addition**\n",
        "- **Multiplication**\n",
        "- **Exponentiation (Power function)**\n"
      ],
      "metadata": {
        "id": "LEkuZwP9tdqu"
      }
    },
    {
      "cell_type": "code",
      "source": [
        "class DualNumber:\n",
        "    def __init__(self, real, dual):\n",
        "        \"\"\"\n",
        "        Initialize a dual number: real + ε * dual\n",
        "        \"\"\"\n",
        "        self.real = real  # Function value\n",
        "        self.dual = dual  # Derivative\n",
        "\n",
        "    def __repr__(self):\n",
        "        return f\"DualNumber(real={self.real}, dual={self.dual})\"\n",
        "\n",
        "    def __add__(self, other):\n",
        "        \"\"\"\n",
        "        Addition: (a + εb) + (c + εd) = (a + c) + ε(b + d)\n",
        "          x = a + εb with b being the derivative of a\n",
        "          y = c + εd with d being the derivative of c\n",
        "          x + y = (a + c) + ε(b + d)\n",
        "          Thus b+d is the derivative of a+c\n",
        "        \"\"\"\n",
        "        other = other if isinstance(other, DualNumber) else DualNumber(other, 0)\n",
        "        return DualNumber(self.real + other.real, self.dual + other.dual)\n",
        "\n",
        "    def __mul__(self, other):\n",
        "        \"\"\"\n",
        "        Multiplication: (a + εb) * (c + εd) = ac + ε(ad + bc)\n",
        "          x = a + εb with b being the derivative of a\n",
        "          y = c + εd with d being the derivative of c\n",
        "          x * y = (a * c) + ε((a * d) + (b * c))\n",
        "          Thus (a * d) + (b * c) is the derivative of a * c\n",
        "        \"\"\"\n",
        "        other = other if isinstance(other, DualNumber) else DualNumber(other, 0)\n",
        "        real_part = self.real * other.real\n",
        "        dual_part = self.real * other.dual + self.dual * other.real\n",
        "        return DualNumber(real_part, dual_part)\n",
        "\n",
        "    def __pow__(self, exponent):\n",
        "        \"\"\"\n",
        "        Power function: (x + εy)^n = x^n + ε(n * x^(n-1) * y)\n",
        "          x = a + εb with b being the derivative of a\n",
        "          n = exponent\n",
        "          x^n = (a^n) + ε(n * a^(n-1) * b)\n",
        "        \"\"\"\n",
        "        real_part = self.real ** exponent\n",
        "        dual_part = exponent * (self.real ** (exponent - 1)) * self.dual\n",
        "        return DualNumber(real_part, dual_part)\n"
      ],
      "metadata": {
        "id": "f9pzJkS6tfiZ"
      },
      "execution_count": 1,
      "outputs": []
    },
    {
      "cell_type": "markdown",
      "source": [
        "### **How Does This Work?**\n",
        "- **Addition:** The derivative of $ f(x) + g(x) $ is just $ f'(x) + g'(x) $.\n",
        "- **Multiplication:** The product rule states $ (fg)' = f'g + fg' $.\n",
        "- **Power:** The power rule states $ (x^n)' = n x^{n-1} $.\n"
      ],
      "metadata": {
        "id": "88-TV4wStiNZ"
      }
    },
    {
      "cell_type": "markdown",
      "source": [
        "## **3️⃣ Performing Automatic Differentiation with Dual Numbers**\n",
        "\n",
        "### **Example 1: Compute the derivative of $ f(x) = x^2 + 3x + 5 $ at $ x=2 $**\n",
        "\n",
        "$$\n",
        "f(x) = x^2 + 3x + 5\n",
        "$$\n",
        "\n",
        "The derivative is:\n",
        "\n",
        "$$\n",
        "f'(x) = 2x + 3\n",
        "$$\n",
        "\n",
        "At $ x=2 $, we expect:\n",
        "\n",
        "$$\n",
        "f'(2) = 2(2) + 3 = 7\n",
        "$$\n"
      ],
      "metadata": {
        "id": "3bwDkM-Qtk6q"
      }
    },
    {
      "cell_type": "code",
      "source": [
        "# Define x as a dual number: real=2, dual=1 (since we want df/dx at x=2)\n",
        "x = DualNumber(2, 1)\n",
        "\n",
        "# Compute f(x) = x^2 + 3x + 5\n",
        "f_x = (x**2) + (x * 3) + 5\n",
        "\n",
        "# Print results\n",
        "print(f\"Function value at x=2: {f_x.real}\")\n",
        "print(f\"Derivative at x=2: {f_x.dual}\")\n"
      ],
      "metadata": {
        "colab": {
          "base_uri": "https://localhost:8080/"
        },
        "id": "7JhbPoTQtqYw",
        "outputId": "3c47c2ab-ffd3-4335-b33a-8bbc6ec38c68"
      },
      "execution_count": 2,
      "outputs": [
        {
          "output_type": "stream",
          "name": "stdout",
          "text": [
            "Function value at x=2: 15\n",
            "Derivative at x=2: 7\n"
          ]
        }
      ]
    },
    {
      "cell_type": "markdown",
      "source": [
        "## **🎯 Key Takeaways**\n",
        "1. **Dual numbers encode both function values and derivatives.**\n",
        "2. **Basic arithmetic rules allow differentiation to be computed automatically.**\n",
        "3. **This method is efficient and forms the foundation of \"forward-mode\" autodiff.** as it propagates derivatives **forward** through the computation graph, evaluating derivatives alongside function values.\n",
        "\n",
        "\n",
        "Forward-mode autodiff is inefficient for functions with many inputs and one output because it computes one derivative per function evaluation as shown below:"
      ],
      "metadata": {
        "id": "uT2neL2MtoJ5"
      }
    },
    {
      "cell_type": "code",
      "source": [
        "# Define the function f(x1, x2, x3, x4) = x1 * x2 + x3 * x4\n",
        "def f(x1, x2, x3, x4):\n",
        "    return (x1 * x2) + (x3 * x4)\n",
        "\n",
        "# Input values\n",
        "x1, x2, x3, x4 = 2, 3, 4, 5\n",
        "\n",
        "# Compute gradients using forward-mode (one pass per variable)\n",
        "grad_x1 = f(DualNumber(x1, 1), DualNumber(x2, 0), DualNumber(x3, 0), DualNumber(x4, 0)).dual\n",
        "grad_x2 = f(DualNumber(x1, 0), DualNumber(x2, 1), DualNumber(x3, 0), DualNumber(x4, 0)).dual\n",
        "grad_x3 = f(DualNumber(x1, 0), DualNumber(x2, 0), DualNumber(x3, 1), DualNumber(x4, 0)).dual\n",
        "grad_x4 = f(DualNumber(x1, 0), DualNumber(x2, 0), DualNumber(x3, 0), DualNumber(x4, 1)).dual\n",
        "\n",
        "# Print gradients\n",
        "print(f\"∂f/∂x1: {grad_x1}\")\n",
        "print(f\"∂f/∂x2: {grad_x2}\")\n",
        "print(f\"∂f/∂x3: {grad_x3}\")\n",
        "print(f\"∂f/∂x4: {grad_x4}\")\n"
      ],
      "metadata": {
        "colab": {
          "base_uri": "https://localhost:8080/"
        },
        "id": "UuPgmR9Bx6B-",
        "outputId": "a355af1f-edb3-44af-c545-23680d57fdc1"
      },
      "execution_count": 3,
      "outputs": [
        {
          "output_type": "stream",
          "name": "stdout",
          "text": [
            "∂f/∂x1: 3\n",
            "∂f/∂x2: 2\n",
            "∂f/∂x3: 5\n",
            "∂f/∂x4: 4\n"
          ]
        }
      ]
    },
    {
      "cell_type": "markdown",
      "source": [
        "As you can see, this is quite inefficient as we had to have 4 foward passes to compute the derivatives with respect to the 4 inputs to the function.\n",
        "In deep learning, computing the gradient of a loss function with respect to millions of parameters would require millions of forward-mode passes making forward mode differentiation, despite its mathematical beauty, computationally infeasible!\n",
        "\n",
        "For this, we use backward mode differentiation."
      ],
      "metadata": {
        "id": "UiYzRHX6x5V5"
      }
    },
    {
      "cell_type": "markdown",
      "source": [],
      "metadata": {
        "id": "_oOQ-pk0x5Y4"
      }
    }
  ]
}